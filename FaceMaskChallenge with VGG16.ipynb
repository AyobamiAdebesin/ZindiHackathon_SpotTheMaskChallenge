{
 "cells": [
  {
   "cell_type": "code",
   "execution_count": 1,
   "metadata": {},
   "outputs": [
    {
     "name": "stderr",
     "output_type": "stream",
     "text": [
      "Using TensorFlow backend.\n"
     ]
    }
   ],
   "source": [
    "import keras\n",
    "import tensorflow as tf\n",
    "import sklearn\n",
    "import os, shutil\n",
    "import numpy as np\n",
    "import pandas as pd\n",
    "import matplotlib\n",
    "import matplotlib.pyplot as plt"
   ]
  },
  {
   "cell_type": "code",
   "execution_count": 2,
   "metadata": {},
   "outputs": [],
   "source": [
    "# Set seed for reproducibility\n",
    "np.random.random(2020)\n",
    "\n",
    "\n",
    "# load the data from your local computer\n",
    "test_dir = 'C:/Users/ADEMOLA/Documents/AYOBAMI_DOCUMENT/Computer Programming/Data Science/Machine_Learning+Data_Science_NLP/ZINDI DATA SCIENCE COMPETITIONS/SPOT THE MASK CHALLENGE/test_dir'\n",
    "val_dir = 'C:/Users/ADEMOLA/Documents/AYOBAMI_DOCUMENT/Computer Programming/Data Science/Machine_Learning+Data_Science_NLP/ZINDI DATA SCIENCE COMPETITIONS/SPOT THE MASK CHALLENGE/val_dir'\n",
    "partial_train_dir = 'C:/Users/ADEMOLA/Documents/AYOBAMI_DOCUMENT/Computer Programming/Data Science/Machine_Learning+Data_Science_NLP/ZINDI DATA SCIENCE COMPETITIONS/SPOT THE MASK CHALLENGE/par_train_dir'\n",
    "\n",
    "# partial_train + val_dir\n",
    "train_dir = 'C:/Users/ADEMOLA/Documents/AYOBAMI_DOCUMENT/Computer Programming/Data Science/Machine_Learning+Data_Science_NLP/ZINDI DATA SCIENCE COMPETITIONS/SPOT THE MASK CHALLENGE/train'\n"
   ]
  },
  {
   "cell_type": "code",
   "execution_count": 3,
   "metadata": {},
   "outputs": [],
   "source": [
    "# Create a subfolder\n",
    "partial_train_mask_dir = os.path.join(partial_train_dir, 'mask')\n",
    "partial_train_nomask_dir = os.path.join(partial_train_dir, 'nomask')\n",
    "\n",
    "train_mask_dir = os.path.join(train_dir, 'mask')\n",
    "train_nomask_dir = os.path.join(train_dir, 'nomask')\n",
    "\n",
    "test_mask_dir = os.path.join(test_dir, 'mask')\n",
    "test_nomask_dir = os.path.join(test_dir, 'nomask')\n",
    "\n",
    "val_mask_dir = os.path.join(val_dir, 'mask')\n",
    "val_nomask_dir = os.path.join(val_dir, 'nomask')"
   ]
  },
  {
   "cell_type": "code",
   "execution_count": 4,
   "metadata": {},
   "outputs": [
    {
     "name": "stdout",
     "output_type": "stream",
     "text": [
      "total training mask images: 641\n",
      "total training nomask images: 667\n",
      "\n",
      "total partial training mask images: 466\n",
      "total partial training nomask images: 534\n",
      "\n",
      "total test mask images: 267\n",
      "total test nomask images: 242\n",
      "\n",
      "total validation mask images: 175\n",
      "total validation nomask images: 133\n"
     ]
    }
   ],
   "source": [
    "print('total training mask images:', len(os.listdir(train_mask_dir)))\n",
    "print('total training nomask images:', len(os.listdir(train_nomask_dir)))\n",
    "\n",
    "print('\\ntotal partial training mask images:', len(os.listdir(partial_train_mask_dir)))\n",
    "print('total partial training nomask images:', len(os.listdir(partial_train_nomask_dir)))\n",
    "\n",
    "print('\\ntotal test mask images:', len(os.listdir(test_mask_dir)))\n",
    "print('total test nomask images:', len(os.listdir(test_nomask_dir)))\n",
    "\n",
    "print('\\ntotal validation mask images:', len(os.listdir(val_mask_dir)))\n",
    "print('total validation nomask images:', len(os.listdir(val_nomask_dir)))"
   ]
  },
  {
   "cell_type": "markdown",
   "metadata": {},
   "source": [
    "# Build the model\n",
    "from keras import layers, models\n",
    "model = models.Sequential()\n",
    "model.add(layers.Conv2D(64, (3, 3),activation='relu',padding='same',input_shape=(150,150,3)))\n",
    "model.add(layers.Conv2D(64, (3,3), activation='relu', padding='same'))\n",
    "model.add(layers.MaxPooling2D((2,2), strides=(2,2)))\n",
    "\n",
    "# block 2\n",
    "model.add(layers.Conv2D(128, (3,3), activation='relu', padding='same'))\n",
    "model.add(layers.Conv2D(128, (3,3), activation='relu', padding='same'))\n",
    "model.add(layers.MaxPooling2D((2,2), strides=(2,2)))\n",
    "\n",
    "# block 3\n",
    "model.add(layers.Conv2D(256, (3,3), activation='relu', padding='same'))\n",
    "model.add(layers.Conv2D(256, (3,3), activation='relu', padding='same'))\n",
    "model.add(layers.Conv2D(256, (3,3), activation='relu', padding='same'))\n",
    "model.add(layers.MaxPooling2D((2,2), strides=(2,2)))\n",
    "\n",
    "# block 4\n",
    "model.add(layers.Conv2D(512, (3,3), activation='relu', padding='same'))\n",
    "model.add(layers.Conv2D(512, (3,3), activation='relu', padding='same'))\n",
    "model.add(layers.Conv2D(512, (3,3), activation='relu', padding='same'))\n",
    "model.add(layers.MaxPooling2D((2,2), strides=(2,2)))\n",
    "\n",
    "# block 5\n",
    "model.add(layers.Conv2D(512, (3,3), activation='relu', padding='same'))\n",
    "model.add(layers.Conv2D(512, (3,3), activation='relu', padding='same'))\n",
    "model.add(layers.Conv2D(512, (3,3), activation='relu', padding='same'))\n",
    "model.add(layers.MaxPooling2D((2,2), strides=(2,2)))\n",
    "\n",
    "# Classifier\n",
    "model.add(layers.Flatten())\n",
    "model.add(layers.Dense(256, activation='relu'))\n",
    "model.add(layers.Dense(1, activation='sigmoid'))"
   ]
  },
  {
   "cell_type": "markdown",
   "metadata": {},
   "source": [
    "model.summary()"
   ]
  },
  {
   "cell_type": "markdown",
   "metadata": {},
   "source": [
    "# Data Processing\n",
    "from keras.preprocessing.image import ImageDataGenerator\n",
    "np.random.random(2020)\n",
    "train_datagen = ImageDataGenerator(rescale=1./255)\n",
    "test_datagen = ImageDataGenerator(rescale=1./255)\n",
    "\n",
    "train_generator = train_datagen.flow_from_directory(partial_train_dir, target_size=(150, 150), batch_size=20, class_mode='binary')\n",
    "val_generator = test_datagen.flow_from_directory(val_dir, target_size=(150,150), batch_size=20, class_mode='binary')\n",
    "\n",
    "for data_batch, labels_batch in train_generator:\n",
    "    print('data batch shape:', data_batch.shape)\n",
    "    print('labels batch shape:', labels_batch.shape)\n",
    "    break"
   ]
  },
  {
   "cell_type": "code",
   "execution_count": 5,
   "metadata": {},
   "outputs": [],
   "source": [
    "from keras.applications import VGG16\n",
    "conv_base = VGG16(weights='vgg16_weights_tf_dim_ordering_tf_kernels_notop.h5', input_shape=(150,150,3), include_top=False)"
   ]
  },
  {
   "cell_type": "code",
   "execution_count": 6,
   "metadata": {},
   "outputs": [],
   "source": [
    "import os\n",
    "import numpy as np\n",
    "from keras.preprocessing.image import ImageDataGenerator\n",
    "\n",
    "datagen = ImageDataGenerator(rescale=1./255)\n",
    "batch_size = 20\n",
    "def extract_features(directory, sample_count):\n",
    "    features = np.zeros(shape=(sample_count, 4,4,512))\n",
    "    labels = np.zeros(shape=(sample_count))\n",
    "    generator = datagen.flow_from_directory(directory, target_size=(150,150), batch_size=batch_size, class_mode='binary')\n",
    "    i=0\n",
    "    for inputs_batch, labels_batch in generator:\n",
    "        features_batch = conv_base.predict(inputs_batch)\n",
    "        features[i*batch_size:(i+1)*batch_size] = features_batch\n",
    "        labels[i*batch_size:(i+1)*batch_size] = labels_batch\n",
    "        i+=1\n",
    "        if i* batch_size>=sample_count:\n",
    "            break\n",
    "    return features, labels"
   ]
  },
  {
   "cell_type": "code",
   "execution_count": 7,
   "metadata": {},
   "outputs": [
    {
     "name": "stdout",
     "output_type": "stream",
     "text": [
      "Found 1000 images belonging to 2 classes.\n",
      "Found 308 images belonging to 2 classes.\n",
      "Found 509 images belonging to 2 classes.\n"
     ]
    }
   ],
   "source": [
    "train_features, train_labels = extract_features(partial_train_dir, 1000)\n",
    "validation_features, validation_labels = extract_features(val_dir, 308)\n",
    "test_features, test_labels = extract_features(test_dir, 509)"
   ]
  },
  {
   "cell_type": "code",
   "execution_count": 8,
   "metadata": {},
   "outputs": [],
   "source": [
    "train_features = np.reshape(train_features, (1000, 4*4*512))\n",
    "validation_features = np.reshape(validation_features, (308,4*4*512))\n",
    "test_features = np.reshape(test_features, (509, 4*4*512))"
   ]
  },
  {
   "cell_type": "code",
   "execution_count": 9,
   "metadata": {},
   "outputs": [
    {
     "name": "stdout",
     "output_type": "stream",
     "text": [
      "Train on 1000 samples, validate on 308 samples\n",
      "Epoch 1/30\n",
      "1000/1000 [==============================] - 3s 3ms/step - loss: 0.6972 - acc: 0.5190 - val_loss: 0.6897 - val_acc: 0.5195\n",
      "Epoch 2/30\n",
      "1000/1000 [==============================] - 2s 2ms/step - loss: 0.6813 - acc: 0.5630 - val_loss: 0.6657 - val_acc: 0.6429\n",
      "Epoch 3/30\n",
      "1000/1000 [==============================] - 2s 2ms/step - loss: 0.6577 - acc: 0.6220 - val_loss: 0.6300 - val_acc: 0.7305\n",
      "Epoch 4/30\n",
      "1000/1000 [==============================] - 2s 2ms/step - loss: 0.6401 - acc: 0.6370 - val_loss: 0.5945 - val_acc: 0.7565\n",
      "Epoch 5/30\n",
      "1000/1000 [==============================] - 2s 2ms/step - loss: 0.6006 - acc: 0.6970 - val_loss: 0.5522 - val_acc: 0.7532\n",
      "Epoch 6/30\n",
      "1000/1000 [==============================] - 2s 2ms/step - loss: 0.5551 - acc: 0.7480 - val_loss: 0.5327 - val_acc: 0.7565\n",
      "Epoch 7/30\n",
      "1000/1000 [==============================] - 2s 2ms/step - loss: 0.5114 - acc: 0.7680 - val_loss: 0.5046 - val_acc: 0.7695\n",
      "Epoch 8/30\n",
      "1000/1000 [==============================] - 2s 2ms/step - loss: 0.4728 - acc: 0.7830 - val_loss: 0.4761 - val_acc: 0.7792\n",
      "Epoch 9/30\n",
      "1000/1000 [==============================] - 2s 2ms/step - loss: 0.4346 - acc: 0.8130 - val_loss: 0.4334 - val_acc: 0.8052\n",
      "Epoch 10/30\n",
      "1000/1000 [==============================] - 2s 2ms/step - loss: 0.4019 - acc: 0.8220 - val_loss: 0.4352 - val_acc: 0.7825\n",
      "Epoch 11/30\n",
      "1000/1000 [==============================] - 2s 2ms/step - loss: 0.3632 - acc: 0.8580 - val_loss: 0.4351 - val_acc: 0.8084\n",
      "Epoch 12/30\n",
      "1000/1000 [==============================] - 2s 2ms/step - loss: 0.3432 - acc: 0.8480 - val_loss: 0.4202 - val_acc: 0.8052\n",
      "Epoch 13/30\n",
      "1000/1000 [==============================] - 2s 2ms/step - loss: 0.3377 - acc: 0.8490 - val_loss: 0.4171 - val_acc: 0.8149\n",
      "Epoch 14/30\n",
      "1000/1000 [==============================] - 2s 2ms/step - loss: 0.3038 - acc: 0.8800 - val_loss: 0.4186 - val_acc: 0.8279\n",
      "Epoch 15/30\n",
      "1000/1000 [==============================] - 2s 2ms/step - loss: 0.2753 - acc: 0.8880 - val_loss: 0.4415 - val_acc: 0.8019\n",
      "Epoch 16/30\n",
      "1000/1000 [==============================] - 2s 2ms/step - loss: 0.2487 - acc: 0.9050 - val_loss: 0.4378 - val_acc: 0.8084\n",
      "Epoch 17/30\n",
      "1000/1000 [==============================] - 2s 2ms/step - loss: 0.2343 - acc: 0.9030 - val_loss: 0.4276 - val_acc: 0.8214\n",
      "Epoch 18/30\n",
      "1000/1000 [==============================] - 2s 2ms/step - loss: 0.2137 - acc: 0.9240 - val_loss: 0.4376 - val_acc: 0.8214\n",
      "Epoch 19/30\n",
      "1000/1000 [==============================] - 2s 2ms/step - loss: 0.1899 - acc: 0.9300 - val_loss: 0.4424 - val_acc: 0.8247\n",
      "Epoch 20/30\n",
      "1000/1000 [==============================] - 2s 2ms/step - loss: 0.1804 - acc: 0.9290 - val_loss: 0.4492 - val_acc: 0.8182\n",
      "Epoch 21/30\n",
      "1000/1000 [==============================] - 2s 2ms/step - loss: 0.1524 - acc: 0.9340 - val_loss: 0.4676 - val_acc: 0.8182\n",
      "Epoch 22/30\n",
      "1000/1000 [==============================] - 2s 2ms/step - loss: 0.1383 - acc: 0.9550 - val_loss: 0.4881 - val_acc: 0.8149\n",
      "Epoch 23/30\n",
      "1000/1000 [==============================] - 2s 2ms/step - loss: 0.1113 - acc: 0.9730 - val_loss: 0.5114 - val_acc: 0.8214\n",
      "Epoch 24/30\n",
      "1000/1000 [==============================] - 2s 2ms/step - loss: 0.1039 - acc: 0.9780 - val_loss: 0.5313 - val_acc: 0.8149\n",
      "Epoch 25/30\n",
      "1000/1000 [==============================] - 2s 2ms/step - loss: 0.0846 - acc: 0.9790 - val_loss: 0.5259 - val_acc: 0.8279\n",
      "Epoch 26/30\n",
      "1000/1000 [==============================] - 2s 2ms/step - loss: 0.0773 - acc: 0.9770 - val_loss: 0.5734 - val_acc: 0.8182\n",
      "Epoch 27/30\n",
      "1000/1000 [==============================] - 2s 2ms/step - loss: 0.0601 - acc: 0.9830 - val_loss: 0.6392 - val_acc: 0.7825\n",
      "Epoch 28/30\n",
      "1000/1000 [==============================] - 2s 2ms/step - loss: 0.0537 - acc: 0.9870 - val_loss: 0.6186 - val_acc: 0.8052\n",
      "Epoch 29/30\n",
      "1000/1000 [==============================] - 2s 2ms/step - loss: 0.0477 - acc: 0.9860 - val_loss: 0.6124 - val_acc: 0.8182\n",
      "Epoch 30/30\n",
      "1000/1000 [==============================] - 2s 2ms/step - loss: 0.0407 - acc: 0.9920 - val_loss: 0.6140 - val_acc: 0.8312\n"
     ]
    }
   ],
   "source": [
    "# Build the classifier\n",
    "from keras  import models, layers, optimizers\n",
    "model = models.Sequential()\n",
    "model.add(layers.Dense(256, activation='relu', input_shape=(4*4*512,)))\n",
    "model.add(layers.Dropout(0.2))\n",
    "model.add(layers.Dense(512, activation='relu'))\n",
    "model.add(layers.Dropout(0.3))\n",
    "model.add(layers.Dense(512, activation='relu'))\n",
    "model.add(layers.Dense(512, activation='relu'))\n",
    "model.add(layers.Dropout(0.2))\n",
    "model.add(layers.Dense(1, activation='sigmoid'))\n",
    "\n",
    "# Compile the model\n",
    "from keras import optimizers\n",
    "model.compile(loss='binary_crossentropy', optimizer=optimizers.RMSprop(lr=2e-5), metrics=['acc'])\n",
    "\n",
    "# Train the model\n",
    "history = model.fit(train_features, train_labels,validation_data=(validation_features, validation_labels), epochs=30, batch_size=20)"
   ]
  },
  {
   "cell_type": "code",
   "execution_count": 10,
   "metadata": {},
   "outputs": [
    {
     "data": {
      "image/png": "[encoded data removed]",
      "text/plain": [
       "<Figure size 432x288 with 1 Axes>"
      ]
     },
     "metadata": {
      "needs_background": "light"
     },
     "output_type": "display_data"
    }
   ],
   "source": [
    "import matplotlib.pyplot as plt\n",
    "acc = history.history['acc']\n",
    "val_acc = history.history['val_acc']\n",
    "loss = history.history['loss']\n",
    "val_loss = history.history['val_loss']\n",
    "\n",
    "epochs = range(1, len(acc)+1)\n",
    "\n",
    "plt.plot(epochs, acc, 'bo', label='Training acc')\n",
    "plt.plot(epochs, val_acc, 'b', label='Val acc')\n",
    "plt.title('Training and Validation accuracy')\n",
    "plt.legend(loc='best')\n",
    "plt.show()\n"
   ]
  },
  {
   "cell_type": "code",
   "execution_count": 11,
   "metadata": {},
   "outputs": [
    {
     "data": {
      "image/png": "[encoded data removed]",
      "text/plain": [
       "<Figure size 432x288 with 1 Axes>"
      ]
     },
     "metadata": {
      "needs_background": "light"
     },
     "output_type": "display_data"
    }
   ],
   "source": [
    "plt.plot(epochs, loss, 'bo', label='Training loss')\n",
    "plt.plot(epochs, val_loss, 'b', label='Val loss')\n",
    "plt.title('Training and Validation loss')\n",
    "plt.legend(loc='best')\n",
    "plt.show()"
   ]
  },
  {
   "cell_type": "code",
   "execution_count": 12,
   "metadata": {},
   "outputs": [
    {
     "name": "stdout",
     "output_type": "stream",
     "text": [
      "509/509 [==============================] - 0s 333us/step\n"
     ]
    },
    {
     "data": {
      "text/plain": [
       "[0.7061081292118679, 0.7858546376228333]"
      ]
     },
     "execution_count": 12,
     "metadata": {},
     "output_type": "execute_result"
    }
   ],
   "source": [
    "model.evaluate(test_features, test_labels)"
   ]
  },
  {
   "cell_type": "code",
   "execution_count": 13,
   "metadata": {},
   "outputs": [],
   "source": [
    "import pandas as pd\n",
    "import numpy as np\n",
    "y_pred = model.predict(test_features)"
   ]
  },
  {
   "cell_type": "code",
   "execution_count": 14,
   "metadata": {},
   "outputs": [
    {
     "data": {
      "text/plain": [
       "(509,)"
      ]
     },
     "execution_count": 14,
     "metadata": {},
     "output_type": "execute_result"
    }
   ],
   "source": [
    "test_pred = (y_pred > .5).astype(int)\n",
    "test_pred = test_pred.reshape(509,)\n",
    "test_pred.shape"
   ]
  },
  {
   "cell_type": "code",
   "execution_count": 15,
   "metadata": {},
   "outputs": [
    {
     "data": {
      "text/plain": [
       "array([1, 0, 0, 1, 0, 0, 1, 0, 0, 0, 1, 0, 0, 0, 0, 1, 0, 0, 1, 0, 0, 1,\n",
       "       0, 1, 0, 1, 1, 0, 1, 0, 1, 0, 0, 0, 1, 1, 0, 1, 0, 0, 1, 1, 0, 1,\n",
       "       1, 0, 1, 0, 0, 0, 1, 0, 1, 1, 0, 1, 0, 0, 0, 0, 0, 1, 0, 0, 1, 0,\n",
       "       1, 0, 0, 1, 1, 0, 0, 1, 0, 0, 1, 1, 0, 1, 1, 1, 1, 0, 1, 1, 0, 0,\n",
       "       0, 0, 0, 0, 1, 1, 1, 1, 1, 1, 1, 0, 1, 1, 1, 0, 1, 1, 0, 0, 0, 1,\n",
       "       1, 1, 0, 1, 1, 0, 1, 0, 1, 0, 1, 0, 1, 1, 0, 1, 1, 0, 0, 0, 1, 0,\n",
       "       1, 1, 0, 1, 1, 0, 0, 0, 1, 1, 1, 0, 0, 1, 1, 0, 1, 0, 1, 1, 1, 1,\n",
       "       1, 0, 0, 0, 1, 1, 1, 0, 1, 0, 0, 1, 1, 1, 1, 1, 0, 0, 1, 1, 1, 0,\n",
       "       0, 0, 0, 0, 1, 1, 0, 0, 0, 1, 1, 1, 1, 0, 0, 0, 0, 0, 0, 0, 1, 1,\n",
       "       1, 1, 1, 1, 1, 0, 1, 0, 1, 1, 1, 0, 0, 1, 0, 0, 1, 0, 0, 0, 0, 0,\n",
       "       1, 1, 0, 0, 0, 0, 0, 0, 1, 1, 0, 1, 1, 1, 0, 0, 1, 1, 1, 1, 0, 1,\n",
       "       1, 0, 0, 0, 0, 0, 1, 0, 1, 0, 1, 1, 0, 0, 0, 0, 1, 0, 1, 0, 0, 0,\n",
       "       0, 1, 1, 1, 0, 1, 0, 1, 1, 0, 0, 0, 1, 0, 0, 0, 0, 1, 0, 1, 0, 1,\n",
       "       0, 0, 1, 0, 0, 1, 1, 1, 0, 1, 0, 0, 1, 0, 1, 0, 1, 1, 0, 0, 1, 1,\n",
       "       0, 0, 1, 1, 1, 1, 1, 0, 0, 1, 1, 1, 0, 0, 1, 0, 0, 1, 0, 0, 0, 0,\n",
       "       0, 1, 1, 1, 0, 0, 0, 1, 1, 0, 0, 0, 1, 0, 1, 0, 1, 0, 0, 0, 1, 0,\n",
       "       0, 0, 0, 1, 1, 1, 0, 1, 1, 0, 0, 0, 1, 1, 1, 0, 0, 0, 1, 0, 1, 0,\n",
       "       0, 0, 1, 0, 1, 0, 1, 1, 0, 0, 0, 1, 0, 0, 1, 1, 0, 1, 1, 0, 0, 0,\n",
       "       0, 1, 1, 1, 1, 0, 1, 1, 0, 0, 1, 0, 0, 0, 0, 1, 0, 0, 1, 1, 0, 0,\n",
       "       0, 0, 0, 0, 1, 1, 1, 0, 0, 0, 0, 1, 1, 1, 0, 1, 0, 1, 0, 1, 1, 0,\n",
       "       0, 1, 0, 1, 1, 0, 1, 1, 1, 0, 1, 0, 0, 1, 1, 1, 0, 0, 0, 0, 0, 1,\n",
       "       1, 0, 1, 0, 0, 1, 1, 1, 1, 0, 0, 1, 0, 1, 1, 0, 0, 0, 1, 0, 0, 1,\n",
       "       0, 0, 1, 0, 0, 1, 1, 1, 0, 1, 1, 1, 1, 1, 0, 0, 0, 1, 1, 0, 1, 0,\n",
       "       0, 0, 0])"
      ]
     },
     "execution_count": 15,
     "metadata": {},
     "output_type": "execute_result"
    }
   ],
   "source": [
    "test_pred"
   ]
  },
  {
   "cell_type": "code",
   "execution_count": 16,
   "metadata": {},
   "outputs": [],
   "source": [
    "# Submission file\n",
    "import os\n",
    "import pandas as pd\n",
    "\n",
    "files_in_test = sorted(os.listdir(test_mask_dir))\n",
    "files_in_test_2 = sorted(os.listdir(test_nomask_dir))\n",
    "files = files_in_test + files_in_test_2\n",
    "\n",
    "images=[i for i in files]\n",
    "\n",
    "df = pd.DataFrame()\n",
    "df['images']=[test_dir+str(x) for x in images]\n",
    "df['target'] = test_pred\n",
    "df.to_csv('Facemask prediction_1.csv', index=False)"
   ]
  },
  {
   "cell_type": "code",
   "execution_count": 17,
   "metadata": {},
   "outputs": [
    {
     "data": {
      "text/html": [
       "<div>\n",
       "<style scoped>\n",
       "    .dataframe tbody tr th:only-of-type {\n",
       "        vertical-align: middle;\n",
       "    }\n",
       "\n",
       "    .dataframe tbody tr th {\n",
       "        vertical-align: top;\n",
       "    }\n",
       "\n",
       "    .dataframe thead th {\n",
       "        text-align: right;\n",
       "    }\n",
       "</style>\n",
       "<table border=\"1\" class=\"dataframe\">\n",
       "  <thead>\n",
       "    <tr style=\"text-align: right;\">\n",
       "      <th></th>\n",
       "      <th>images</th>\n",
       "      <th>target</th>\n",
       "    </tr>\n",
       "  </thead>\n",
       "  <tbody>\n",
       "    <tr>\n",
       "      <th>0</th>\n",
       "      <td>C:/Users/ADEMOLA/Documents/AYOBAMI_DOCUMENT/Co...</td>\n",
       "      <td>1</td>\n",
       "    </tr>\n",
       "    <tr>\n",
       "      <th>1</th>\n",
       "      <td>C:/Users/ADEMOLA/Documents/AYOBAMI_DOCUMENT/Co...</td>\n",
       "      <td>0</td>\n",
       "    </tr>\n",
       "    <tr>\n",
       "      <th>2</th>\n",
       "      <td>C:/Users/ADEMOLA/Documents/AYOBAMI_DOCUMENT/Co...</td>\n",
       "      <td>0</td>\n",
       "    </tr>\n",
       "    <tr>\n",
       "      <th>3</th>\n",
       "      <td>C:/Users/ADEMOLA/Documents/AYOBAMI_DOCUMENT/Co...</td>\n",
       "      <td>1</td>\n",
       "    </tr>\n",
       "    <tr>\n",
       "      <th>4</th>\n",
       "      <td>C:/Users/ADEMOLA/Documents/AYOBAMI_DOCUMENT/Co...</td>\n",
       "      <td>0</td>\n",
       "    </tr>\n",
       "    <tr>\n",
       "      <th>...</th>\n",
       "      <td>...</td>\n",
       "      <td>...</td>\n",
       "    </tr>\n",
       "    <tr>\n",
       "      <th>504</th>\n",
       "      <td>C:/Users/ADEMOLA/Documents/AYOBAMI_DOCUMENT/Co...</td>\n",
       "      <td>1</td>\n",
       "    </tr>\n",
       "    <tr>\n",
       "      <th>505</th>\n",
       "      <td>C:/Users/ADEMOLA/Documents/AYOBAMI_DOCUMENT/Co...</td>\n",
       "      <td>0</td>\n",
       "    </tr>\n",
       "    <tr>\n",
       "      <th>506</th>\n",
       "      <td>C:/Users/ADEMOLA/Documents/AYOBAMI_DOCUMENT/Co...</td>\n",
       "      <td>0</td>\n",
       "    </tr>\n",
       "    <tr>\n",
       "      <th>507</th>\n",
       "      <td>C:/Users/ADEMOLA/Documents/AYOBAMI_DOCUMENT/Co...</td>\n",
       "      <td>0</td>\n",
       "    </tr>\n",
       "    <tr>\n",
       "      <th>508</th>\n",
       "      <td>C:/Users/ADEMOLA/Documents/AYOBAMI_DOCUMENT/Co...</td>\n",
       "      <td>0</td>\n",
       "    </tr>\n",
       "  </tbody>\n",
       "</table>\n",
       "<p>509 rows × 2 columns</p>\n",
       "</div>"
      ],
      "text/plain": [
       "                                                images  target\n",
       "0    C:/Users/ADEMOLA/Documents/AYOBAMI_DOCUMENT/Co...       1\n",
       "1    C:/Users/ADEMOLA/Documents/AYOBAMI_DOCUMENT/Co...       0\n",
       "2    C:/Users/ADEMOLA/Documents/AYOBAMI_DOCUMENT/Co...       0\n",
       "3    C:/Users/ADEMOLA/Documents/AYOBAMI_DOCUMENT/Co...       1\n",
       "4    C:/Users/ADEMOLA/Documents/AYOBAMI_DOCUMENT/Co...       0\n",
       "..                                                 ...     ...\n",
       "504  C:/Users/ADEMOLA/Documents/AYOBAMI_DOCUMENT/Co...       1\n",
       "505  C:/Users/ADEMOLA/Documents/AYOBAMI_DOCUMENT/Co...       0\n",
       "506  C:/Users/ADEMOLA/Documents/AYOBAMI_DOCUMENT/Co...       0\n",
       "507  C:/Users/ADEMOLA/Documents/AYOBAMI_DOCUMENT/Co...       0\n",
       "508  C:/Users/ADEMOLA/Documents/AYOBAMI_DOCUMENT/Co...       0\n",
       "\n",
       "[509 rows x 2 columns]"
      ]
     },
     "execution_count": 17,
     "metadata": {},
     "output_type": "execute_result"
    }
   ],
   "source": [
    "result = pd.read_csv('Facemask prediction_1.csv')\n",
    "result"
   ]
  },
  {
   "cell_type": "code",
   "execution_count": null,
   "metadata": {},
   "outputs": [],
   "source": []
  }
 ],
 "metadata": {
  "kernelspec": {
   "display_name": "Python 3",
   "language": "python",
   "name": "python3"
  },
  "language_info": {
   "codemirror_mode": {
    "name": "ipython",
    "version": 3
   },
   "file_extension": ".py",
   "mimetype": "text/x-python",
   "name": "python",
   "nbconvert_exporter": "python",
   "pygments_lexer": "ipython3",
   "version": "3.7.6"
  }
 },
 "nbformat": 4,
 "nbformat_minor": 4
}
